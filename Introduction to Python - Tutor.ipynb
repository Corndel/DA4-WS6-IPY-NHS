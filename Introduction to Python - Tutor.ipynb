{
 "cells": [
  {
   "cell_type": "markdown",
   "metadata": {
    "id": "PLLNauH0pxJ0"
   },
   "source": [
    "<img src=\"https://github.com/CorndelDataAnalyticsDiploma/workshop/blob/master/Corndel%20Digital%20Logo%20Centre.png?raw=true\" alt=\"Corndel\" width =\"301.5\" align=\"left\">"
   ]
  },
  {
   "cell_type": "markdown",
   "metadata": {},
   "source": [
    "<h1 style=\"font-size:48px;\"> Jupyter Notebook Environments </h1>\n",
    "\n",
    "<img src=\"https://github.com/DrPBaksh/workshop-data/blob/main/slides/pyhton-8.png?raw=true\" alt=\"pythn1\" width =\"200\" align=\"left\">\n",
    "\n"
   ]
  },
  {
   "cell_type": "markdown",
   "metadata": {},
   "source": [
    "- Jupyter environments (Jupyter Lab / Jupyter Notebooks) are popular editors for data science. \n",
    "- They provide great functionality for documenting projects and sharing visuals all inline with your code.\n",
    "- Jupyter notebook files are always saved with the extension **.ipynb**\n",
    "- Ptython files are saved with the extension **.py**\n",
    "- Other professionals such as software engineers and data engineers may be more likely to use Python editors that only execute python, such as Vim, or Pycharm. These editors only execute .py files"
   ]
  },
  {
   "cell_type": "markdown",
   "metadata": {},
   "source": [
    "**Jupyter notebooks are broken down into cells**\n",
    "- A cell can be set to be a code cell for running python code\n",
    "- A cell can be set to be a mardown cell which we use for writting our notes \n",
    "- The type of cell you are currently in is displayed in the menu at the top (flick to the next cell to see this change as it displays some python code)\n",
    "- New cells can be added to a notebook using the plus button from the menu or by executing the cell above using alt-enter \n",
    "\n",
    "\n",
    "#### Below is a code cell"
   ]
  },
  {
   "cell_type": "code",
   "execution_count": null,
   "metadata": {},
   "outputs": [],
   "source": [
    "# you can write commments in code cells using a hash tag at the start of the line\n",
    "5+5"
   ]
  },
  {
   "cell_type": "markdown",
   "metadata": {},
   "source": [
    "In the cell below, write a comment and a calculation"
   ]
  },
  {
   "cell_type": "code",
   "execution_count": null,
   "metadata": {},
   "outputs": [],
   "source": []
  },
  {
   "cell_type": "markdown",
   "metadata": {},
   "source": [
    "## I am a markdown cell\n",
    "\n",
    "Markdown cells can be great for writting documentation to go with your python code. Markdown format is designed to be simple. Below we look at a few useful features to help you format your markdown.\n",
    "\n",
    "### Title Size\n",
    "Title size is controled using the # symbol before any text. The greater the number of # before your text the smaller your title \n",
    "\n",
    "# One Hastag - Large title \n",
    "## Two Hastags - Medium title \n",
    "### Three Hastags - Small title\n",
    "#### Four Hastags - smaller title \n",
    "##### Five Hastags - Italics\n"
   ]
  },
  {
   "cell_type": "markdown",
   "metadata": {},
   "source": [
    "Creating bullet points and numbered lists in markdown is simple. \\\n",
    "Use a dash and space for bullet points followed by a new line and \\\n",
    "Numbers with a fullstop followed by a new line for a numbered list\n",
    "\n",
    "\n",
    "- bullet point 1\n",
    "- bullet point 2\n",
    "- bullet point 3\n",
    "\n",
    "1. numbered list 1\n",
    "2. numbered list 2\n",
    "3. numbered list 3\n",
    "\n",
    "To make text italic use the star symbol before and after your text e.g *italic*\n",
    "To make text bold use a double star symbol before and after your text e.g **bold**"
   ]
  },
  {
   "cell_type": "markdown",
   "metadata": {},
   "source": [
    "##### You can swap between cell types by either selecting in the drop down menu above or using hot keys"
   ]
  },
  {
   "cell_type": "markdown",
   "metadata": {},
   "source": [
    "# Hot keys\n",
    "#### There are some useful hot keys to remember\n",
    "- ctrl + Enter to run a cell\n",
    "- shift + Enter to run a cell and move on to the next cell\n",
    "- alt + Enter to run a cell and create a new blank one beneath it\n",
    "- ctrl + / to comment / uncomment blocks\n",
    "\n",
    "# Modes\n",
    "#####   Edit Mode -  the cell is highlighted in Green and typing edits cell contents\n",
    " ##### Macro Mode - the cell is highlighted in blue and typing results in\n",
    "\n",
    "- a - create a new cell above\n",
    "- b - create a new cell below\n",
    "- dd - delete the current cell\n"
   ]
  },
  {
   "cell_type": "markdown",
   "metadata": {},
   "source": [
    "# Learning Python Resources \n",
    "\n",
    "- **Large Language Models (GPT, Claude, Copilot)**\n",
    "- Why learn python? - [Data Camp- Why Learn Python?](https://www.datacamp.com/blog/how-to-learn-python-expert-guide?utm_source=google&utm_medium=paid_search&utm_campaignid=805200711&utm_adgroupid=43370829484&utm_device=c&utm_keyword=data%20camp%20python&utm_matchtype=e&utm_network=g&utm_adpostion=&utm_creative=650785397924&utm_targetid=aud-517318242147%3Akwd-2008586997961&utm_loc_interest_ms=&utm_loc_physical_ms=1006730&utm_content=brd~tech~python&utm_campaign=220808_1-sea~brd~branded_2-b2c_3-row-p1_4-prc_5-na_6-na_7-le_8-pdsh-go_9-na_10-na_11-na-dec23&gad_source=1&gclid=CjwKCAiA-bmsBhAGEiwAoaQNml_z43mFyFsyht_eMNWYaDSAzddA4TehBTp7ZxglFRI0nZeSvj2GBBoCPr0QAvD_BwE)\n",
    "- Data Camp Courses for Python [Data Camp Courses](https://app.datacamp.com/learn/courses)\n",
    "- Good Python Practises https://khuyentran1401.github.io/Efficient_Python_tricks_and_tools_for_data_scientists/Chapter1/good_practices.html\n",
    "- W3Schools -Python https://www.w3schools.com/python/\n",
    "- Stack overflow - https://stackoverflow.com/\n"
   ]
  },
  {
   "cell_type": "markdown",
   "metadata": {},
   "source": [
    "## Python basics \n",
    "\n",
    "We are going to immediately look at some basic python concepts, and do a very light touch here for you to explore them further in your own learning. However I do not want to get bogged down in the details, and instead would like to get on to working with real spreadsheet data in python and will continue picking up basics as we go"
   ]
  },
  {
   "cell_type": "markdown",
   "metadata": {},
   "source": [
    "# ⚠️🤖⚠️ Prepare our Personal Python Tutor (our LLM)\n",
    "<img src=\"https://blogs.microsoft.com/wp-content/uploads/prod/2023/09/Press-Image_FINAL_16x9-4.jpg\" width=\"300\">\n",
    "\n",
    "\n",
    "*Hello! I'm excited to start learning Python for data analysis. As a complete beginner to programming, I'll be using Jupyter Notebook as my learning environment. Throughout my learning journey, I anticipate needing assistance and guidance.*\n",
    "\n",
    "*I would greatly appreciate it if you could act as my Python tutor. To ensure that I can understand the concepts and explanations effectively, please keep a few things in mind:*\n",
    "\n",
    "*Avoid using jargon or technical terms without explaining them first. Remember that I'm new to programming, so I might not be familiar with many of the terms and concepts.*\n",
    "\n",
    "*Explain things at a beginner level, assuming no prior programming knowledge. Break down complex topics into smaller, easier-to-understand parts.*\n",
    "\n",
    "*Provide clear and concise explanations, and use examples whenever possible to illustrate the concepts.Do not make your explanations too long. *\n",
    "\n",
    "*Be patient and encouraging, as learning a new programming language can be challenging at times.*\n",
    "\n",
    "*If I have any specific questions or need help with a particular problem, I'll paste the relevant code or question below. Please provide step-by-step explanations and guide me towards the solution.*\n",
    "\n",
    "*If you're comfortable with this arrangement, please let me know, and we can start my Python learning journey together. Thank you in advance for your support and guidance!*"
   ]
  },
  {
   "cell_type": "markdown",
   "metadata": {},
   "source": [
    "#### 💡 Declaring variables\n",
    "\n",
    "In programming we will want to assign variables in our worksace. This is a way of storing data in memory for future use.\\\n",
    "** Discuss the difference between Ram and Storage and how these ariables will be lost when the program is exited ** \\\n",
    "The main basic variables are:\n",
    "- int - integers\n",
    "- float - decimal numbers\n",
    "- string - text\n",
    "- boolean - True or False"
   ]
  },
  {
   "cell_type": "code",
   "execution_count": null,
   "metadata": {},
   "outputs": [],
   "source": [
    "# x = 10             # data type?\n",
    "# name = \"Alice\"     # data type?"
   ]
  },
  {
   "cell_type": "markdown",
   "metadata": {},
   "source": [
    "#### 💡 Printing variables\n",
    "\n",
    "🤖`*\"Ive created two variables in a jupyter notebook cell. These variables are called x and name. Copilot how can i print these out to see their values?\"*`"
   ]
  },
  {
   "cell_type": "code",
   "execution_count": null,
   "metadata": {},
   "outputs": [],
   "source": [
    "\n",
    "\n",
    "\n"
   ]
  },
  {
   "cell_type": "markdown",
   "metadata": {},
   "source": [
    "#### 💡 Jupyter environments print out\n",
    "\n",
    "In Jupyter environments in addition to supporting print functionality the last variable in the cell will automatically print out if not assinged to anything"
   ]
  },
  {
   "cell_type": "code",
   "execution_count": null,
   "metadata": {},
   "outputs": [],
   "source": [
    "# type each variable in different lines and execute cell, try comma too"
   ]
  },
  {
   "cell_type": "markdown",
   "metadata": {},
   "source": [
    "❓ What do the numbers to the left of the cells mean?\n",
    "\n",
    "The number in the square brackets to the left of the cell represents the order that the cell was run. We can go back and run cells in what ever order we want. \n",
    "\n",
    "⚠️ Be careful running cells out of order. In some cases your calulation may be effected by cells you have run out of order. "
   ]
  },
  {
   "cell_type": "markdown",
   "metadata": {},
   "source": [
    "#### For example, in the next three cells we will specify the running total. \n",
    "If we run these cells out of order we may not get the results that we want."
   ]
  },
  {
   "cell_type": "code",
   "execution_count": null,
   "metadata": {},
   "outputs": [],
   "source": [
    "# # 2023, 30,000 total patients to date\n",
    "# # There would be some code here used to calculate the running total at 2023\n",
    "# running_total = 30000"
   ]
  },
  {
   "cell_type": "code",
   "execution_count": null,
   "metadata": {},
   "outputs": [],
   "source": [
    "# # 2024, there were 10000 extra patients\n",
    "# # There would be extra code here generating the new running total\n",
    "# running_total = 40000"
   ]
  },
  {
   "cell_type": "code",
   "execution_count": null,
   "metadata": {},
   "outputs": [],
   "source": [
    "# # Print the current running total for the report\n",
    "# print('The current running total is:',running_total)"
   ]
  },
  {
   "cell_type": "markdown",
   "metadata": {},
   "source": [
    "#### 💡 Assigning different data types\n",
    "- We can assign any data type to our variables. Above we saw an integer value be assigned to the value x and a text or *string* data type be assigned to Alice. There are numerous other built in data types (https://www.w3schools.com/python/python_datatypes.asp). We can use a special function called ***%whos*** in python to display all the variables in our workspace along with their data type."
   ]
  },
  {
   "cell_type": "code",
   "execution_count": null,
   "metadata": {
    "scrolled": true
   },
   "outputs": [],
   "source": [
    "%whos"
   ]
  },
  {
   "cell_type": "markdown",
   "metadata": {},
   "source": [
    "We can then change their data types too"
   ]
  },
  {
   "cell_type": "code",
   "execution_count": null,
   "metadata": {},
   "outputs": [],
   "source": [
    "# # Changing x to a string\n",
    "# str(x) \n"
   ]
  },
  {
   "cell_type": "markdown",
   "metadata": {},
   "source": [
    "Notice the speech marks around the print out let us know that this is now a string or a text output.\\\n",
    "However if we use the ***%whos*** function again we will find it's data type is still not a string"
   ]
  },
  {
   "cell_type": "code",
   "execution_count": null,
   "metadata": {},
   "outputs": [],
   "source": [
    "# %whos"
   ]
  },
  {
   "cell_type": "markdown",
   "metadata": {},
   "source": [
    "This is because we did not re assing the variable to the new data type. We have two options. We could create a new variable called x_string"
   ]
  },
  {
   "cell_type": "code",
   "execution_count": null,
   "metadata": {},
   "outputs": [],
   "source": [
    "# x_string = str(x)\n",
    "# %whos"
   ]
  },
  {
   "cell_type": "markdown",
   "metadata": {},
   "source": [
    "Or we could overwrite the value of x \n"
   ]
  },
  {
   "cell_type": "code",
   "execution_count": null,
   "metadata": {},
   "outputs": [],
   "source": [
    "# x = str(x)\n",
    "# %whos"
   ]
  },
  {
   "cell_type": "markdown",
   "metadata": {},
   "source": [
    "**Note** It is common in code that you see `type()` used to determine the data type of a python variable. This is also useful however it will return only the data type of that variable and not the entire workspace. Example:"
   ]
  },
  {
   "cell_type": "code",
   "execution_count": null,
   "metadata": {},
   "outputs": [],
   "source": [
    "# type(x)"
   ]
  },
  {
   "cell_type": "markdown",
   "metadata": {},
   "source": [
    "#### 💡 Lists \n",
    "\n",
    "Lists are data structures that can store any number of mixed datatypes and are very useful. You create lists using square brackets and separate each item in your list with a comma.\n",
    "\n",
    "\n",
    "🤖`I would like you to provide me with an example of a list of numbers in python and I would like you to print them to the workspace please`"
   ]
  },
  {
   "cell_type": "code",
   "execution_count": null,
   "metadata": {},
   "outputs": [],
   "source": [
    "# paste in the resutl from your LLM tutor\n",
    "\n",
    "\n"
   ]
  },
  {
   "cell_type": "code",
   "execution_count": null,
   "metadata": {},
   "outputs": [],
   "source": [
    "# list_of_words= ['Hello', 'NHS' ,'Student']\n",
    "# list_of_words"
   ]
  },
  {
   "cell_type": "code",
   "execution_count": null,
   "metadata": {},
   "outputs": [],
   "source": []
  },
  {
   "cell_type": "markdown",
   "metadata": {},
   "source": [
    "\n",
    "🤖`*\"Ive created a python list called mixed_list. How can i print just the first item of that list. The how would I print the 4th item of that list ?\"*`"
   ]
  },
  {
   "cell_type": "code",
   "execution_count": null,
   "metadata": {},
   "outputs": [],
   "source": [
    "\n",
    "\n"
   ]
  },
  {
   "cell_type": "code",
   "execution_count": null,
   "metadata": {},
   "outputs": [],
   "source": [
    "\n",
    "\n",
    "\n",
    "\n",
    "\n"
   ]
  },
  {
   "cell_type": "markdown",
   "metadata": {},
   "source": [
    "❓ **But how do these lists help with practical analysis?** \n",
    "\n",
    "In the forms folder I have placed some of the bike sharing feedback csv files. I can use a list to store these form names and then load them into one big document. *Don't worry about not understanding the code - however I want you to recognise this as a use case for lists*"
   ]
  },
  {
   "cell_type": "code",
   "execution_count": null,
   "metadata": {},
   "outputs": [],
   "source": [
    "# # First I create a list of the file names (not we can do this in code to make it quicker- but its still a list!)\n",
    "# form_names = ['patient_00001.csv',\n",
    "#  'patient_0000102.csv',\n",
    "#  'patient_0000214.csv',\n",
    "#  'patient_0000295.csv',\n",
    "#  'patient_0000305.csv',\n",
    "#  'patient_0000372.csv',\n",
    "#  'patient_0000390.csv',\n",
    "#  'patient_0000479.csv',\n",
    "#  'patient_000049.csv',\n",
    "#  'patient_0000554.csv',\n",
    "#  'patient_0000579.csv',\n",
    "#  'patient_0000630.csv',\n",
    "#  'patient_0000733.csv']\n",
    "\n",
    "# # Now I create an empty list below - I will add all the infomation from each bike form to this empty list 1 file at a time\n",
    "# combined_data = []\n",
    "\n",
    "# for form in form_names:\n",
    "#     data = pd.read_csv(os.path.join('forms', form))\n",
    "#     data = data.loc[:,].transpose()\n",
    "#     data.columns = data.iloc[0]\n",
    "#     combined_data.append(data.iloc[1,:])\n",
    "    \n",
    "# # my list combined_df is now full is rows. I can then convert it to a dataframe / spreadsheet\n",
    "# combined_df = pd.concat(combined_data, axis=1).transpose()\n",
    "# combined_df.reset_index(drop=True, inplace = True)\n",
    "# combined_df"
   ]
  },
  {
   "cell_type": "markdown",
   "metadata": {},
   "source": [
    "\n",
    "🤖`*\"I have come across this section of code. Could you help explain it to me?  <Paste in Code>\"*`"
   ]
  },
  {
   "cell_type": "markdown",
   "metadata": {},
   "source": [
    "## 💻❓ Now you try some \n",
    "- Below there are a sequence of questions. For each question there is a beginner and intermediate question. Start with the beginer and move to the intermerdiate. Make your way through the questions ensuring that you know you are able to complete all beginer level questions before trying the harder questions"
   ]
  },
  {
   "cell_type": "markdown",
   "metadata": {},
   "source": [
    "💻❓ 1.  \n",
    "\n",
    "**[beginner]** - Create a two numeric variables called **a** and **b** on different lines in the same cell. Observe what happens when you do **a * b** , **a + b** and **b - a**. Note you may want to encase your calculation within a print statement to view many calculations in one cell . e.g \n",
    "\n",
    "```python\n",
    "print(a + b)\n",
    "print(a * b)\n"
   ]
  },
  {
   "cell_type": "code",
   "execution_count": null,
   "metadata": {},
   "outputs": [],
   "source": []
  },
  {
   "cell_type": "markdown",
   "metadata": {},
   "source": [
    "**[intermediate]** - Create a string variable called **string_a** that contains some text data . Observe what happens when you perform **string_a * 3**"
   ]
  },
  {
   "cell_type": "code",
   "execution_count": null,
   "metadata": {},
   "outputs": [],
   "source": []
  },
  {
   "cell_type": "markdown",
   "metadata": {},
   "source": [
    "💻❓ 2.  \n",
    "\n",
    "**[beginner]** a) - Create a variable **a** that is a number and variable **b** that is string data.  \n",
    "String data is written within single, double or tripple quotes.  \n",
    "Add **a** and **b** together \n",
    "```python\n",
    "\n"
   ]
  },
  {
   "cell_type": "code",
   "execution_count": null,
   "metadata": {},
   "outputs": [],
   "source": []
  },
  {
   "cell_type": "markdown",
   "metadata": {},
   "source": [
    "Observe the python error. The bottom part of the error contains the most helpful infomation. Make a note what you think the error is telling you. \n",
    "\n",
    "b) Now reasign the value of **a** so that **a** is converted to a string and then re perform the calclulation "
   ]
  },
  {
   "cell_type": "code",
   "execution_count": null,
   "metadata": {},
   "outputs": [],
   "source": []
  },
  {
   "cell_type": "markdown",
   "metadata": {},
   "source": [
    "**[Intermediate]** \n",
    "\n",
    "**f string formatting** is a useful method to format python strings. \n",
    "(https://www.w3schools.com/python/python_string_formatting.asp)\n",
    "\n",
    "a) create a variable called **volume** and give it an integer value\n",
    "\n",
    "b) Then use f string to create a string \"The volume of fluid is **theValueOfYourVariable** litres\"\n",
    "<br> \n",
    "<center> eg. if Volume = 30 then use f-string formatting to print \"The volume of fluid is **30** litres\"  <center>"
   ]
  },
  {
   "cell_type": "code",
   "execution_count": null,
   "metadata": {},
   "outputs": [],
   "source": []
  },
  {
   "cell_type": "markdown",
   "metadata": {},
   "source": [
    "b) Then use f string to create a string \"The volume of fluid is **theValueOfYourVariable** litres\"\n",
    "<br> \n",
    "<center> eg. if Volume = 30 then use f-string formatting to print \"The volume of fluid is **30** litres\"  <center>"
   ]
  },
  {
   "cell_type": "code",
   "execution_count": null,
   "metadata": {},
   "outputs": [],
   "source": []
  },
  {
   "cell_type": "markdown",
   "metadata": {},
   "source": [
    "💻❓ 3.  \n",
    "\n",
    "**[beginner]** -\n",
    "a) create a list of 5 items which are a mixture of numbers and text string values.\n",
    "\n",
    "\n",
    "\n",
    "\n",
    "\n",
    "\n"
   ]
  },
  {
   "cell_type": "code",
   "execution_count": null,
   "metadata": {},
   "outputs": [],
   "source": []
  },
  {
   "cell_type": "markdown",
   "metadata": {},
   "source": [
    "b) print out the 3rd and last item in the list.\\\n",
    "((https://www.w3schools.com/python/python_lists_access.asp))"
   ]
  },
  {
   "cell_type": "code",
   "execution_count": null,
   "metadata": {},
   "outputs": [],
   "source": []
  },
  {
   "cell_type": "markdown",
   "metadata": {},
   "source": [
    "**[Intermediate]** -\n",
    "a) create a list of 5 items which are a mixture of numbers and text string values.\n"
   ]
  },
  {
   "cell_type": "code",
   "execution_count": null,
   "metadata": {},
   "outputs": [],
   "source": []
  },
  {
   "cell_type": "markdown",
   "metadata": {},
   "source": [
    "b) multiple that list by 5 using the * 5 . This will make the list 25 elelemnts long"
   ]
  },
  {
   "cell_type": "code",
   "execution_count": null,
   "metadata": {},
   "outputs": [],
   "source": []
  },
  {
   "cell_type": "markdown",
   "metadata": {},
   "source": [
    "c) Use the minus symbol to index the last variable\\\n",
    "(https://www.w3schools.com/python/python_lists_access.asp)"
   ]
  },
  {
   "cell_type": "code",
   "execution_count": null,
   "metadata": {},
   "outputs": [],
   "source": []
  },
  {
   "cell_type": "markdown",
   "metadata": {},
   "source": [
    "d) Use the append method to add a new item to your list\\\n",
    "(https://www.w3schools.com/python/python_lists_add.asp)"
   ]
  },
  {
   "cell_type": "code",
   "execution_count": null,
   "metadata": {},
   "outputs": [],
   "source": []
  },
  {
   "cell_type": "markdown",
   "metadata": {},
   "source": [
    "# 🐼 Working With Pandas in Python 🐼"
   ]
  },
  {
   "cell_type": "markdown",
   "metadata": {},
   "source": [
    "Pandas is the first package we will be using in Python. Packages are imported into our environment to enable greater functionality. The package we are importing is called Pandas, and it is a great package when working with data that is organised in rows and columns (spreadsheet like)\n"
   ]
  },
  {
   "cell_type": "markdown",
   "metadata": {},
   "source": [
    "## Helpful Pandas Resources"
   ]
  },
  {
   "cell_type": "markdown",
   "metadata": {},
   "source": [
    "\n",
    "**You are not expected to memorise what we cover today!!!** Instead, let us briefly review together these great resources.\n",
    "\n",
    "### Pandas docs\n",
    "- Start with Pandas documentation: https://pandas.pydata.org/ (or google Pandas ...)\n",
    "- Pandas User Guide https://pandas.pydata.org/docs/user_guide/index.html\n",
    "- 10 minutes to Pandas: https://pandas.pydata.org/docs/user_guide/10min.html\n",
    "- Getting started tutorials: https://pandas.pydata.org/docs/getting_started/intro_tutorials/index.html\n",
    "- Python for Data Analysis, 3E: https://wesmckinney.com/book/preliminaries.html (By the author of Pandas itself, Wes McKinney)\n",
    "\n",
    "### I know what I want to do in Excel/SQL, how do I do it in Pandas?\n",
    "\n",
    "- Pandas comparison with Excel: https://pandas.pydata.org/docs/getting_started/comparison/comparison_with_spreadsheets.html#compare-with-spreadsheets\n",
    "- Pandas comparison with SQL: https://pandas.pydata.org/pandas-docs/stable/getting_started/comparison/comparison_with_sql.html\n",
    "\n",
    "### External\n",
    "- W3 schools Pandas tutorial: https://www.w3schools.com/python/pandas/default.asp\n",
    "- Pandas cheatsheet https://github.com/pandas-dev/pandas/blob/master/doc/cheatsheet/Pandas_Cheat_Sheet.pdf\n",
    "\n",
    "\n",
    "### Plotting\n",
    "- Plotting: https://www.python-graph-gallery.com/ (technically not Pandas but a good place to start for any plots)\n",
    "\n",
    "### Other\n",
    "https://github.com/guipsamora/pandas_exercises/blob/master/README.md\n",
    "\n",
    "### Using stackoverflow answers\n",
    "\n",
    "Let's walk through how we might use this pandas answer together https://stackoverflow.com/questions/17063458/reading-an-excel-file-in-python-using-pandas\n",
    "\n",
    "In summary...\n",
    "1. read the top voted answer first.\n",
    "2. if you don't like it (e.g. too complex/confusing) try one lower down.\n",
    "3. if you don't like any of them, go back to Google\n",
    "\n",
    "https://twitter.com/i/status/1541734926965424129"
   ]
  },
  {
   "cell_type": "markdown",
   "metadata": {},
   "source": [
    "## 💻 Now lets start using Pandas 💻"
   ]
  },
  {
   "cell_type": "markdown",
   "metadata": {},
   "source": [
    "#### 💡 Import the package!\n",
    "\n",
    "Assuming your package is availble on your kernel (if not don't worry it can be installed from online) then we must import it into our current workspace. \n",
    "\n",
    "It is good practise to import packages into an environment and to give them an alias name that we use to reference any functions we want from the package \n",
    "\n",
    "```python\n",
    "# Import the package\n",
    "import pandas as pd\n",
    "```\n",
    "\n",
    "Now we have all the functionality available from the pandas package in our environment \n",
    "\n",
    "** Discuss namespace if appropiate\n"
   ]
  },
  {
   "cell_type": "code",
   "execution_count": null,
   "metadata": {},
   "outputs": [],
   "source": [
    "import pandas as pd\n"
   ]
  },
  {
   "cell_type": "markdown",
   "metadata": {},
   "source": [
    "#### 💡 Load in our Data 🚗\n",
    "\n",
    "<img src=\"https://pandas.pydata.org/docs/_images/02_io_readwrite.svg\" border='1' style=\"width: 800px;\"/>\n",
    "\n",
    "*Image from Pandas getting started tutorial https://pandas.pydata.org/docs/getting_started/intro_tutorials/02_read_write.html#how-do-i-read-and-write-tabular-data*"
   ]
  },
  {
   "cell_type": "markdown",
   "metadata": {},
   "source": [
    "\n",
    "🤖`*\"I have a file called hospital_activity_data.csv. How do I load this into python using pandas package?\"*`"
   ]
  },
  {
   "cell_type": "code",
   "execution_count": null,
   "metadata": {},
   "outputs": [],
   "source": [
    "# # read in csv\n",
    "\n",
    "# hospital_activity = pd.read_csv('data/hospital_activity_data.csv') \n",
    "\n"
   ]
  },
  {
   "cell_type": "markdown",
   "metadata": {},
   "source": [
    "#### ⚠️ Check your file Path !\n",
    "\n",
    "If you are experiencing an error here, and you have succesfully imported pandas into your environment then the error is *most likely* going to be a file path error. Things to consider\n",
    "\n",
    "**Relative File Paths**\n",
    "- Relative file paths look for the file relative to the file location of your current notebook. Our file is at the same level as the notebook script so can be imported with just its name. If the file was within a folder at the same level as my notebook the code I would use is :\n",
    "```python\n",
    "hospital_activity =  pd.read_csv('folder_name/hospital_activity_data.csv')\n",
    "```\n",
    "- However if the file I was looking for was in a folder above where my current notebook was located I can use \"..\" to indicate go up a level . For example \n",
    "```python\n",
    "hospital_activity =  pd.read_csv('../hospital_activity_data.csv')\n",
    "```\n",
    "\n",
    "❓❓ - **What would the relative file path be if my file structure was the following?**"
   ]
  },
  {
   "cell_type": "markdown",
   "metadata": {},
   "source": [
    "<div class=\"alert alert-block alert-warning\">\n",
    "\n",
    "-**notebooks**\n",
    "\n",
    "     --Introduction_to_python.ipynb\n",
    "\n",
    "-**data** \n",
    "        \n",
    "    --workshop_data\n",
    "        \n",
    "        --hospital_activity_data.csv\n",
    "    \n",
    "    --exteneral_data\n",
    "    \n",
    "    --senstive_data\n",
    "    \n",
    "</div>\n"
   ]
  },
  {
   "cell_type": "markdown",
   "metadata": {},
   "source": [
    "**Absolute File Paths**\n",
    "\n",
    "- You can access your data via an absolute file path which is the full path string. \n",
    "- In file explorer you can usually access this by right clicking on the file. \n",
    "- Generally absolute file paths are not advised because they make it difficult for your notebook or code to be shared "
   ]
  },
  {
   "cell_type": "markdown",
   "metadata": {},
   "source": [
    "❗ **pwd**\n",
    "\n",
    "Check the directory that your notebook is currently working from by typing pwd into a code cell\n",
    "```python\n",
    "pwd\n",
    "```"
   ]
  },
  {
   "cell_type": "code",
   "execution_count": null,
   "metadata": {},
   "outputs": [],
   "source": []
  },
  {
   "cell_type": "markdown",
   "metadata": {},
   "source": [
    "❓ - **How do I check this variable is in my workspace?**"
   ]
  },
  {
   "cell_type": "code",
   "execution_count": null,
   "metadata": {},
   "outputs": [],
   "source": [
    "# %whos"
   ]
  },
  {
   "cell_type": "markdown",
   "metadata": {},
   "source": [
    "## 💻❓ Now you try some \n",
    "\n",
    "There are two more csv files , **uoa_contractor_202412.csv** and **foi-02643-data.csv**.\\\n",
    "Locate these two files and, using pandas, assign them to **uoa** and **foi_drugs** respectiely\n",
    "\n",
    "\n",
    "Files originally taken from:\n",
    "\n",
    "https://opendata.nhsbsa.net/dataset/foi-02643 \n",
    "\n",
    "https://opendata.nhsbsa.net/dataset/english-contractor-monthly-orthodontic-activity"
   ]
  },
  {
   "cell_type": "code",
   "execution_count": null,
   "metadata": {
    "scrolled": true
   },
   "outputs": [],
   "source": [
    "# # complete the following\n",
    "# uoa = pd.read_csv(...filepath...)\n",
    "# foi_drugs = pd.read_csv(...filepath...)"
   ]
  },
  {
   "cell_type": "markdown",
   "metadata": {},
   "source": [
    "#### 💡 DataFrames?\n",
    "\n",
    "- A dataframe is the same as your single spreadsheet in excel\n",
    "- A series is a single column of a dataframe"
   ]
  },
  {
   "cell_type": "markdown",
   "metadata": {},
   "source": [
    "<img src=\"https://miro.medium.com/max/1400/1*KOBhtOeFntu6CyJUsCdN0g.jpeg\" border='1' style=\"width: 400px;\"/>\n",
    "\n",
    "*Image from: https://towardsdatascience.com/how-to-master-pandas-for-data-science-b8ab0a9b1042*"
   ]
  },
  {
   "cell_type": "markdown",
   "metadata": {},
   "source": [
    "#### 💡 View our Data\n",
    "\n",
    "👤 **.head()** 👤\n",
    "```python\n",
    "# Import the package\n",
    "your_varaible_name.head()\n",
    "# or\n",
    "your_varaible_name.head(10)\n",
    "# or\n",
    "your_varaible_name.head(20)\n",
    "\n",
    "```\n",
    "\n",
    "\n"
   ]
  },
  {
   "cell_type": "code",
   "execution_count": null,
   "metadata": {},
   "outputs": [],
   "source": []
  },
  {
   "cell_type": "markdown",
   "metadata": {},
   "source": [
    "🦚 **.tail()** 🦚\n",
    "```python\n",
    "# Import the package\n",
    "your_varaible_name.tail()\n",
    "# or\n",
    "your_varaible_name.tail(10)\n",
    "# or\n",
    "your_varaible_name.tail(20)\n",
    "\n",
    "```\n"
   ]
  },
  {
   "cell_type": "code",
   "execution_count": null,
   "metadata": {},
   "outputs": [],
   "source": []
  },
  {
   "cell_type": "markdown",
   "metadata": {},
   "source": [
    "#### ⚠️I cant see all my columns!\n",
    "\n",
    "- If you have a large number of columns pandas wont display all of them by defult. We can view the column names as we will below however pandas settings must be changed to view all the columns\n",
    "- This is the same for if you wanted to view all of your rows \n",
    "\n",
    "```python\n",
    "pd.set_option('display.max_columns', None)\n",
    "pd.set_option('display.max_rows', None)\n",
    "```\n",
    "\n",
    "```python\n",
    "your_variable_name.columns\n",
    "```"
   ]
  },
  {
   "cell_type": "markdown",
   "metadata": {},
   "source": [
    "## 💻❓ Now you try some \n",
    "\n",
    "Print out the top 5 rows of your hospital_activity table and the bottom 5 rows of your uoa_df table\n",
    "\n",
    "Did you forget the python command for top and bottom rows. No problem\n",
    "\n",
    "\n",
    "🤖`*\"I have a dataframe caled foi_drugs. How can i observe the top 5 rows of this table\"*`\n",
    "\n",
    "\n",
    "🤖`*\"I have a dataframe caled uoa. How can i observe the bottom 5 rows of this table\"*`\n",
    "\n"
   ]
  },
  {
   "cell_type": "code",
   "execution_count": null,
   "metadata": {},
   "outputs": [],
   "source": []
  },
  {
   "cell_type": "code",
   "execution_count": null,
   "metadata": {},
   "outputs": [],
   "source": []
  },
  {
   "cell_type": "markdown",
   "metadata": {},
   "source": [
    "### 💡List our columns\n",
    "\n",
    "\n",
    "```python\n",
    "your_variable_name.columns\n",
    "```"
   ]
  },
  {
   "cell_type": "code",
   "execution_count": null,
   "metadata": {},
   "outputs": [],
   "source": []
  },
  {
   "cell_type": "markdown",
   "metadata": {},
   "source": [
    "🧐 - We can pull out certain column names by their index\n",
    "```python\n",
    "columns = your_variable_name.columns\n",
    "columns[3] # gives me the name of the 4th column\n",
    "```"
   ]
  },
  {
   "cell_type": "code",
   "execution_count": null,
   "metadata": {},
   "outputs": [],
   "source": []
  },
  {
   "cell_type": "markdown",
   "metadata": {},
   "source": [
    "## 💻❓ Now you try some \n",
    "\n",
    "Print out all the columns of the uoa_df table\n",
    "\n",
    "\n",
    "Did you forget how to see the columns in your dataframe\n",
    "\n",
    "\n",
    "🤖`*\"I have a dataframe caled uoa. How can I see all the column names in that dataframe\"*`"
   ]
  },
  {
   "cell_type": "code",
   "execution_count": null,
   "metadata": {},
   "outputs": [],
   "source": [
    "\n",
    "\n",
    "\n"
   ]
  },
  {
   "cell_type": "markdown",
   "metadata": {},
   "source": [
    "### 💡 Explore our data types\n",
    "\n",
    "It is critical to get the data type of your column correct because :\n",
    "1. It will effect the storage size of that variable\n",
    "2. It will effect the type of functions that can be applied on that column. For example date features can only be applied to a column that is identified as a datetime object"
   ]
  },
  {
   "cell_type": "code",
   "execution_count": null,
   "metadata": {},
   "outputs": [],
   "source": [
    "# hospital_activity.dtypes"
   ]
  },
  {
   "cell_type": "markdown",
   "metadata": {},
   "source": [
    "**object data type** = 🤷 - I don't know\n",
    "\n",
    "🔤🔢📅 **astype()** 🔤🔢📅"
   ]
  },
  {
   "cell_type": "code",
   "execution_count": null,
   "metadata": {},
   "outputs": [],
   "source": [
    "# hospital_activity.head()"
   ]
  },
  {
   "cell_type": "markdown",
   "metadata": {},
   "source": [
    "### 💡Pandas Dates"
   ]
  },
  {
   "cell_type": "markdown",
   "metadata": {},
   "source": [
    "📅 **pd.to_datetime()** 📅\n",
    "\n",
    "```python\n",
    "your_dataframe_name['my_date_column'] = pd.to_datetime(your_dataframe_name['my_date_column'], format='%d/%m/%Y')\n",
    "```"
   ]
  },
  {
   "cell_type": "code",
   "execution_count": null,
   "metadata": {
    "scrolled": true
   },
   "outputs": [],
   "source": [
    "# hospital_activity['Month_Ending'] = pd.to_datetime(hospital_activity['Month_Ending'], format='%dd/%mmm/%YYYY')\n",
    "# hospital_activity.head()"
   ]
  },
  {
   "cell_type": "markdown",
   "metadata": {},
   "source": [
    "Copy the last part of this error into ChatGPT to help"
   ]
  },
  {
   "cell_type": "code",
   "execution_count": null,
   "metadata": {},
   "outputs": [],
   "source": [
    "# hospital_activity['Month_Ending'] = pd.to_datetime(hospital_activity['Month_Ending'], format=\"%d%b%Y\")\n"
   ]
  },
  {
   "cell_type": "code",
   "execution_count": null,
   "metadata": {
    "scrolled": true
   },
   "outputs": [],
   "source": [
    "# hospital_activity.head()"
   ]
  },
  {
   "cell_type": "markdown",
   "metadata": {},
   "source": [
    "#### Exercise\n",
    "Conert FY_Start_Date and FY_End_Date"
   ]
  },
  {
   "cell_type": "code",
   "execution_count": null,
   "metadata": {},
   "outputs": [],
   "source": []
  },
  {
   "cell_type": "markdown",
   "metadata": {},
   "source": [
    "### Demo time functionality \n"
   ]
  },
  {
   "cell_type": "code",
   "execution_count": null,
   "metadata": {},
   "outputs": [],
   "source": [
    "# hospital_activity[hospital_activity['Month_Ending'] < \"03 2024\"]"
   ]
  },
  {
   "cell_type": "code",
   "execution_count": null,
   "metadata": {},
   "outputs": [],
   "source": []
  },
  {
   "cell_type": "code",
   "execution_count": null,
   "metadata": {},
   "outputs": [],
   "source": []
  },
  {
   "cell_type": "markdown",
   "metadata": {},
   "source": [
    "The python syntax for formatting dates is tricky. I often forget it. I would like the dat formatted in with the day month year but also the 24 hour clock\n",
    "\n",
    "\n",
    "🤖`*\"I have a dataframe caled hospital_activity with a column called Month_Ending. How can I enforce the data type of that column to be a date time object that will display the full year month day and 24 hour clock\"*`"
   ]
  },
  {
   "cell_type": "code",
   "execution_count": null,
   "metadata": {},
   "outputs": [],
   "source": []
  },
  {
   "cell_type": "markdown",
   "metadata": {},
   "source": [
    "### 💡Quick Summary Statistics\n",
    "\n",
    "\n",
    "📈 **.describe()** 📈\n",
    "\n",
    "The describe method / function will give you summary statisitics about all of the **numerical** columns in your dataframe\n",
    "\n",
    "```python\n",
    "your_dataframe_name.describe()\n",
    "```"
   ]
  },
  {
   "cell_type": "code",
   "execution_count": null,
   "metadata": {},
   "outputs": [],
   "source": [
    "# hospital_activity.describe().round()"
   ]
  },
  {
   "cell_type": "markdown",
   "metadata": {},
   "source": [
    "## 💻❓ Now you try some \n",
    "\n",
    "Apply the describe method to both the uoa and foi_drugs dataframes.\n",
    "\n",
    "Did you forget if it describe( ) , varaible.describe, variable.describe(). ?\n",
    "\n",
    "Check with the AI \n",
    "\n",
    "\n",
    "🤖`*\"I have a dataframe caled uoa. How can I use pandas to get some summary statistics of the data\"*`"
   ]
  },
  {
   "cell_type": "code",
   "execution_count": null,
   "metadata": {},
   "outputs": [],
   "source": [
    "#place your describe method applied to the uoa table here "
   ]
  },
  {
   "cell_type": "code",
   "execution_count": null,
   "metadata": {},
   "outputs": [],
   "source": [
    "#place your describe method applied to the foi_drugs table here\n"
   ]
  },
  {
   "cell_type": "markdown",
   "metadata": {},
   "source": [
    "# Histograms"
   ]
  },
  {
   "cell_type": "code",
   "execution_count": null,
   "metadata": {},
   "outputs": [],
   "source": [
    "# hospital_activity['FCE_DAY_CASES'].hist(bins=10);"
   ]
  },
  {
   "cell_type": "code",
   "execution_count": null,
   "metadata": {},
   "outputs": [],
   "source": [
    "# Create more histograms from this or other dataframes"
   ]
  },
  {
   "cell_type": "code",
   "execution_count": null,
   "metadata": {},
   "outputs": [],
   "source": []
  },
  {
   "cell_type": "markdown",
   "metadata": {},
   "source": [
    "# Scatter plots"
   ]
  },
  {
   "cell_type": "code",
   "execution_count": null,
   "metadata": {
    "scrolled": true
   },
   "outputs": [],
   "source": [
    "# hospital_activity.plot.scatter('FCEs_With_Procedure','Ordinary_Admission_Episodes');"
   ]
  },
  {
   "cell_type": "code",
   "execution_count": null,
   "metadata": {},
   "outputs": [],
   "source": [
    "# Create more scatter plots"
   ]
  },
  {
   "cell_type": "code",
   "execution_count": null,
   "metadata": {},
   "outputs": [],
   "source": []
  },
  {
   "cell_type": "markdown",
   "metadata": {},
   "source": [
    "# Box Plot"
   ]
  },
  {
   "cell_type": "code",
   "execution_count": null,
   "metadata": {},
   "outputs": [],
   "source": [
    "# hospital_activity.boxplot(column = 'FCEs_With_Procedure');"
   ]
  },
  {
   "cell_type": "code",
   "execution_count": null,
   "metadata": {
    "scrolled": true
   },
   "outputs": [],
   "source": [
    "# hospital_activity.boxplot(column = ['FCEs_With_Procedure','Ordinary_Admission_Episodes']);"
   ]
  },
  {
   "cell_type": "code",
   "execution_count": null,
   "metadata": {},
   "outputs": [],
   "source": [
    "# Create more box plots"
   ]
  },
  {
   "cell_type": "code",
   "execution_count": null,
   "metadata": {},
   "outputs": [],
   "source": []
  },
  {
   "cell_type": "markdown",
   "metadata": {},
   "source": [
    "# Correlation plot"
   ]
  },
  {
   "cell_type": "code",
   "execution_count": null,
   "metadata": {
    "scrolled": false
   },
   "outputs": [],
   "source": [
    "# pd.plotting.scatter_matrix(hospital_activity, alpha=0.2,figsize=(30,30));"
   ]
  },
  {
   "cell_type": "code",
   "execution_count": null,
   "metadata": {},
   "outputs": [],
   "source": []
  },
  {
   "cell_type": "code",
   "execution_count": null,
   "metadata": {
    "scrolled": false
   },
   "outputs": [],
   "source": [
    "# hospital_activity.columns"
   ]
  },
  {
   "cell_type": "code",
   "execution_count": null,
   "metadata": {},
   "outputs": [],
   "source": [
    "columns_to_plot = [#'PARTYEAR',\n",
    "                   'Age_Band',\n",
    "                   'FCE', \n",
    "                   'FCEs_With_Procedure', \n",
    "                   'Ordinary_Admission_Episodes',\n",
    "                   'FCE_DAY_CASES', \n",
    "                   'FCE_DAY_WITH_PROCEDURE', \n",
    "                   'FAE', \n",
    "                   'EMERGENCY',\n",
    "                   'Total_Appointments', \n",
    "                   'Attended_Appointments', \n",
    "                   'DNA_Appointments',\n",
    "                   'First_Attendance', \n",
    "                   'Follow_Up_Attendance']"
   ]
  },
  {
   "cell_type": "code",
   "execution_count": null,
   "metadata": {},
   "outputs": [],
   "source": [
    "# pd.plotting.scatter_matrix(hospital_activity[columns_to_plot], alpha=0.2,figsize=(30,30));"
   ]
  },
  {
   "cell_type": "code",
   "execution_count": null,
   "metadata": {},
   "outputs": [],
   "source": [
    "# plot scatter matrices for the other data frames"
   ]
  },
  {
   "cell_type": "code",
   "execution_count": null,
   "metadata": {},
   "outputs": [],
   "source": []
  },
  {
   "cell_type": "markdown",
   "metadata": {},
   "source": [
    "# Line Chart"
   ]
  },
  {
   "cell_type": "code",
   "execution_count": null,
   "metadata": {},
   "outputs": [],
   "source": [
    "# hospital_activity.plot.line(x='Month_Ending', y='FCE');"
   ]
  },
  {
   "cell_type": "code",
   "execution_count": null,
   "metadata": {
    "scrolled": false
   },
   "outputs": [],
   "source": [
    "# hospital_activity[hospital_activity['Age_Band'] == '03. 10 - 14'].plot.line(x='Month_Ending', y='FCE');"
   ]
  },
  {
   "cell_type": "code",
   "execution_count": null,
   "metadata": {
    "scrolled": false
   },
   "outputs": [],
   "source": [
    "# hospital_activity[(hospital_activity['Age_Band'] == '03. 10 - 14') & (hospital_activity['Month_Ending'] < '2022')].plot.line(x='Month_Ending', y='FCE');"
   ]
  },
  {
   "cell_type": "markdown",
   "metadata": {},
   "source": [
    "# Seaborn\n",
    "Seaborn is a great graphing package that adds more functionality and flexibility, although it requires different syntax"
   ]
  },
  {
   "cell_type": "code",
   "execution_count": null,
   "metadata": {},
   "outputs": [],
   "source": [
    "import seaborn as sns"
   ]
  },
  {
   "cell_type": "code",
   "execution_count": null,
   "metadata": {},
   "outputs": [],
   "source": [
    "# sns.lineplot(data=hospital_activity, x='Month_Ending', y='FCE',estimator='mean', errorbar=None);"
   ]
  },
  {
   "cell_type": "markdown",
   "metadata": {},
   "source": [
    "# Exercise recreate the previous charts in seaborn\n",
    "Google for the commands or try an LLM"
   ]
  },
  {
   "cell_type": "markdown",
   "metadata": {},
   "source": [
    "# Histogram"
   ]
  },
  {
   "cell_type": "code",
   "execution_count": null,
   "metadata": {},
   "outputs": [],
   "source": []
  },
  {
   "cell_type": "markdown",
   "metadata": {},
   "source": [
    "# Scatter"
   ]
  },
  {
   "cell_type": "code",
   "execution_count": null,
   "metadata": {},
   "outputs": [],
   "source": []
  },
  {
   "cell_type": "markdown",
   "metadata": {},
   "source": [
    "# Box Plot"
   ]
  },
  {
   "cell_type": "code",
   "execution_count": null,
   "metadata": {},
   "outputs": [],
   "source": []
  },
  {
   "cell_type": "markdown",
   "metadata": {},
   "source": [
    "# Scatterplot Matrix"
   ]
  },
  {
   "cell_type": "code",
   "execution_count": null,
   "metadata": {},
   "outputs": [],
   "source": []
  },
  {
   "cell_type": "markdown",
   "metadata": {},
   "source": [
    "### 💡Selecting columns\n",
    "\n",
    "Selecting columns by their name is simple. \n",
    "\n",
    "```python\n",
    "your_dataframe_name.['the name of the column you want' ]\n",
    "```\n",
    "\n",
    "or if you want to see multiple columns pass a list of column names in\n",
    "\n",
    "```python\n",
    "your_dataframe_name.[['col name 1', 'col name 2', 'col name 3' ]]\n",
    "```"
   ]
  },
  {
   "cell_type": "code",
   "execution_count": null,
   "metadata": {},
   "outputs": [],
   "source": [
    "hospital_activity['FCE']"
   ]
  },
  {
   "cell_type": "markdown",
   "metadata": {},
   "source": [
    "*Note a pandas dataframe that is a single column is called a series*"
   ]
  },
  {
   "cell_type": "code",
   "execution_count": null,
   "metadata": {},
   "outputs": [],
   "source": [
    "hospital_activity[['FCE', 'FCE_DAY_CASES']]"
   ]
  },
  {
   "cell_type": "markdown",
   "metadata": {},
   "source": [
    "❗**Dot notation for referencing columns**\n",
    "\n",
    "If you column name does not contain any spaces you can references it by placing a dot after the dataframe name followed by the column name\n"
   ]
  },
  {
   "cell_type": "code",
   "execution_count": null,
   "metadata": {},
   "outputs": [],
   "source": [
    "hospital_activity.FCE"
   ]
  },
  {
   "cell_type": "markdown",
   "metadata": {
    "tags": []
   },
   "source": [
    "### 💡Slicing Data \n",
    "\n",
    "Slicing data is the term used to access either rows or columns of data. \n",
    "\n",
    "There are **two** main methods we can achieve this:\n",
    "\n",
    "### 1.  🔍 **.loc** 🔍\n",
    "\n",
    ".loc looks to select the particular column or row by its **name** if it exists. \n",
    "\n",
    "```python\n",
    "your_dataframe_name.loc['my row name -usually a number', 'my column name ' ] \n",
    "```\n",
    "If you want all of your rows you can use the : symbol instead of the row name \n",
    "\n",
    "Our first example extracts all the rows and the order number column"
   ]
  },
  {
   "cell_type": "code",
   "execution_count": null,
   "metadata": {},
   "outputs": [],
   "source": [
    "hospital_activity.loc[:, 'FCE']"
   ]
  },
  {
   "cell_type": "markdown",
   "metadata": {},
   "source": [
    "Our second example extracts rows from 0 to 10 and columns order FCE and FCE_DAY_CASES\n",
    "\n",
    "```python\n",
    "your_dataframe_name.loc[rows , ['this is a list of column names' ] \n",
    "```"
   ]
  },
  {
   "cell_type": "code",
   "execution_count": null,
   "metadata": {},
   "outputs": [],
   "source": [
    "hospital_activity.loc[:10, ['FCE', 'FCE_DAY_CASES']]"
   ]
  },
  {
   "cell_type": "markdown",
   "metadata": {},
   "source": [
    "For more extensive uses and examples of loc please look at the following link  https://www.w3resource.com/pandas/dataframe/dataframe-loc.php"
   ]
  },
  {
   "cell_type": "markdown",
   "metadata": {},
   "source": [
    "### 2.   ℹ️🔍 **.iloc** ℹ️🔍\n",
    "\n",
    ".iloc looks to select the particular column or row by its **index** which will be its numerical position \n",
    "\n",
    "```python\n",
    "your_dataframe_name.loc['<row indexes (list, range or number)', '<column indexes (list range or number)> '] \n",
    "```\n",
    "Our first example will get the first 3 columns for the first record"
   ]
  },
  {
   "cell_type": "code",
   "execution_count": null,
   "metadata": {},
   "outputs": [],
   "source": [
    "hospital_activity.iloc[0, 0:3]"
   ]
  },
  {
   "cell_type": "markdown",
   "metadata": {},
   "source": [
    "Now we are going to get record 10, 100 and 500 from columns 2 to the end of the columns "
   ]
  },
  {
   "cell_type": "code",
   "execution_count": null,
   "metadata": {},
   "outputs": [],
   "source": [
    "hospital_activity.iloc[[0, 100, 500], 1:]"
   ]
  },
  {
   "cell_type": "markdown",
   "metadata": {},
   "source": [
    "For a more detailed look into iloc please read the following resource https://www.w3resource.com/pandas/dataframe/dataframe-iloc.php"
   ]
  },
  {
   "cell_type": "markdown",
   "metadata": {},
   "source": [
    "## 💻❓ Now you try some \n",
    "\n",
    "Choose selections to make from the 3 dataframes you have.\n",
    "\n",
    "Try to use .loc and .iloc\n",
    "\n",
    "\n"
   ]
  },
  {
   "cell_type": "markdown",
   "metadata": {},
   "source": [
    "### 💡Filtering Data \n",
    "\n",
    "They best way to do this is with a method called Boolean Indexing. \n",
    "\n",
    "\n",
    "🧲**Filtering**🧲\n",
    "\n",
    "```python\n",
    "your_dataframe_name[your logical conditions]\n",
    "```\n",
    "*Your logical condions will form a boolean - this is a series of numbers that can take TRUE or FALSE values*\n",
    "Examples of logical conditons \n",
    "\n",
    "```python\n",
    "hospital_activity['Age_Band'] == '01. 0 - 4'\n",
    "```\n"
   ]
  },
  {
   "cell_type": "code",
   "execution_count": null,
   "metadata": {},
   "outputs": [],
   "source": [
    "hospital_activity['Age_Band'] == '01. 0 - 4'"
   ]
  },
  {
   "cell_type": "markdown",
   "metadata": {},
   "source": [
    "Notice the boolean response. A list of True or False Values. When this list is nested inside the original dataframe it will only return the records where the boolean is True"
   ]
  },
  {
   "cell_type": "markdown",
   "metadata": {},
   "source": [
    "```python\n",
    "model_cars[hospital_activity['Age_Band'] == '01. 0 - 4']\n",
    "```"
   ]
  },
  {
   "cell_type": "code",
   "execution_count": null,
   "metadata": {},
   "outputs": [],
   "source": [
    "model_cars[hospital_activity['Age_Band'] == '01. 0 - 4']"
   ]
  },
  {
   "cell_type": "markdown",
   "metadata": {},
   "source": [
    "**Other Comparision Operators**\n",
    "\n",
    "**Equals ==**\n",
    "```python\n",
    "hospital_activity['Age_Band'] == '01. 0 - 4'\n",
    "```\n",
    "\n",
    "**Not Equal !=**\n",
    "```python\n",
    "hospital_activity['Age_Band'] != '01. 0 - 4'\n",
    "```\n",
    "\n",
    "**Greater than >**\n",
    "```python\n",
    "hospital_activity[FCEs_With_Procedure] > 25000\n",
    "``` \n",
    "\n",
    "**Less than <**\n",
    "```python\n",
    "hospital_activity[FCEs_With_Procedure] < 25000\n",
    "```\n",
    "\n",
    "**Greater than or equal too >=**\n",
    "```python\n",
    "hospital_activity[FCEs_With_Procedure] >= 25000\n",
    "```\n",
    "\n",
    "**Less than or equal too <=**\n",
    "```python\n",
    "hospital_activity[FCEs_With_Procedure] <= 25000\n",
    "```"
   ]
  },
  {
   "cell_type": "markdown",
   "metadata": {},
   "source": [
    "## 💻❓ Now you try some \n",
    "\n",
    "Choose some conditions and view, sanity check with the amout of records returned"
   ]
  },
  {
   "cell_type": "markdown",
   "metadata": {},
   "source": [
    "### 💡Common Cleaning Transformations\n",
    "\n",
    "**NULL Values**\n",
    "🚫 **.isna()** 🚫\n",
    "```python\n",
    "hospital_activity.isna()\n",
    "```\n",
    "\n"
   ]
  },
  {
   "cell_type": "code",
   "execution_count": null,
   "metadata": {},
   "outputs": [],
   "source": [
    "# hospital_activity.isna().sum()"
   ]
  },
  {
   "cell_type": "code",
   "execution_count": null,
   "metadata": {
    "scrolled": true
   },
   "outputs": [],
   "source": [
    "# foi_drugs = pd.read_csv('data/foi-02643-data.csv')\n",
    "# foi_drugs.isna.sum()\n"
   ]
  },
  {
   "cell_type": "code",
   "execution_count": null,
   "metadata": {},
   "outputs": [],
   "source": [
    "# foi_drugs.dropna(inplace = True)\n",
    "# foi_drugs.isna().sum()"
   ]
  },
  {
   "cell_type": "markdown",
   "metadata": {},
   "source": [
    "**Dulicate Values Values**\n",
    "\n",
    "\n",
    "🐑🐑 **.duplicated()** 🐑🐑\n",
    "\n",
    "\n",
    "🐑🐑 **.drop_duplicates()** 🐑🐑"
   ]
  },
  {
   "cell_type": "code",
   "execution_count": null,
   "metadata": {},
   "outputs": [],
   "source": [
    "# foi_drugs.duplicated().sum()"
   ]
  },
  {
   "cell_type": "code",
   "execution_count": null,
   "metadata": {},
   "outputs": [],
   "source": [
    "# foi_drugs[foi_drugs.duplicated(keep = False)]"
   ]
  },
  {
   "cell_type": "code",
   "execution_count": null,
   "metadata": {},
   "outputs": [],
   "source": [
    "# foi_drugs.drop_duplicates(inplace = True)"
   ]
  },
  {
   "cell_type": "code",
   "execution_count": null,
   "metadata": {},
   "outputs": [],
   "source": [
    "# foi_drugs.duplicated().sum()"
   ]
  },
  {
   "cell_type": "markdown",
   "metadata": {},
   "source": [
    "🔄 **. replace() ** 🔄 \n",
    "\n",
    "The replace function allows us to search for any string or number and change its value according to a pre defined mapping. \n",
    "\n",
    "```python\n",
    "your_dataframe_name.replace({'<string to find>' : '<string to replace>'}, inplace = True) # True to overwrite the dataframe\n",
    "```\n",
    "\n"
   ]
  },
  {
   "cell_type": "code",
   "execution_count": null,
   "metadata": {},
   "outputs": [],
   "source": [
    "# foi_drugs.replace({'Tardisc XL 60 tablets' : 'Tardisc XL 60 Capsules'}, inplace = True)\n",
    "# foi_drugs.tail()"
   ]
  },
  {
   "cell_type": "markdown",
   "metadata": {},
   "source": [
    "## 💻❓ Now you try some \n",
    "\n",
    "Replace some values and observe\n"
   ]
  },
  {
   "cell_type": "markdown",
   "metadata": {},
   "source": [
    "# 🏁🏁 THE END 🏁🏁\n",
    "- You have reached the end of this workshop which I hope is the begining of your Python Journey.\n",
    "- Python can be frustrating to learn but use your AI assistant to help. "
   ]
  },
  {
   "cell_type": "markdown",
   "metadata": {},
   "source": [
    "# 🏋️‍♀️ Practise is key \n",
    "\n",
    "**Suggested options** \n",
    "\n",
    "1. Copy this notebook and start it from the pandas section . Import some of your own spreadsheet data and see if you can replicate any transformations you may have applied in powerBI or Excel.\n",
    "2. Use your personal tutor :🤖`*\"Create me a python dataset to practise my pandas skills on. Please create a csv file of at least 1000s records that relates to refinary alarms . Give me a list of problems to work through on this dataset? \"*`\n",
    "3.Use a Data Camp Course - \n",
    "\n",
    "• Data Manipulation with Pandas :\n",
    "https://app.datacamp.com/learn/courses/data-manipulation-with-pandas\n",
    " \n",
    "• Intermediate Python : Matplotlib and plotting, dictionaries and pandas dataframe, Booleans, loops\n",
    "https://app.datacamp.com/learn/courses/intermediate-python\n",
    " \n",
    "• Merging Data with Pandas:\n",
    "https://app.datacamp.com/learn/courses/joining-data-with-pandas\n",
    "\n",
    "4. 🧑 Email me! Do not spend hours stuck on a python problem . Try the AI, try a quick google, and if still not working please email me and we shall sort it out. Do not suffer in silence ! "
   ]
  },
  {
   "cell_type": "code",
   "execution_count": null,
   "metadata": {},
   "outputs": [],
   "source": []
  }
 ],
 "metadata": {
  "colab": {
   "collapsed_sections": [],
   "name": "NYC_taxi_tip_prediction.ipynb",
   "provenance": []
  },
  "kernelspec": {
   "display_name": "Python [conda env:base] *",
   "language": "python",
   "name": "conda-base-py"
  },
  "language_info": {
   "codemirror_mode": {
    "name": "ipython",
    "version": 3
   },
   "file_extension": ".py",
   "mimetype": "text/x-python",
   "name": "python",
   "nbconvert_exporter": "python",
   "pygments_lexer": "ipython3",
   "version": "3.12.3"
  },
  "vscode": {
   "interpreter": {
    "hash": "c25274bef13d585067a6901c2b502769a56b7a7ad7093cf5a21f8db9b5013afe"
   }
  }
 },
 "nbformat": 4,
 "nbformat_minor": 4
}
